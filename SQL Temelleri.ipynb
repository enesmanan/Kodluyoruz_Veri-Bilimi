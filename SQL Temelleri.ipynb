{
 "cells": [
  {
   "cell_type": "markdown",
   "id": "2c972049-a6e0-4dc6-a809-9de4731a2140",
   "metadata": {},
   "source": [
    "# SQL"
   ]
  },
  {
   "cell_type": "markdown",
   "id": "714f1122-74e9-4db2-95ce-25e4b0951150",
   "metadata": {
    "tags": []
   },
   "source": [
    "## ÖDEV 1\n",
    "\n",
    "1.film tablosunda bulunan title ve description sütunlarındaki verileri sıralayınız.\n",
    "\n",
    "2.film tablosunda bulunan tüm sütunlardaki verileri film uzunluğu (length) 60 dan büyük VE 75 ten küçük olma koşullarıyla sıralayınız.\n",
    "\n",
    "3.film tablosunda bulunan tüm sütunlardaki verileri rental_rate 0.99 VE replacement_cost 12.99 VEYA 28.99 olma koşullarıyla sıralayınız.\n",
    "\n",
    "4.customer tablosunda bulunan first_name sütunundaki değeri 'Mary' olan müşterinin last_name sütunundaki değeri nedir?\n",
    "\n",
    "5.film tablosundaki uzunluğu(length) 50 ten büyük OLMAYIP aynı zamanda rental_rate değeri 2.99 veya 4.99 OLMAYAN verileri sıralayınız."
   ]
  },
  {
   "cell_type": "markdown",
   "id": "28dfc857-2247-4556-9a54-dbfbb079707f",
   "metadata": {},
   "source": [
    "1. SELECT title, description FROM film;"
   ]
  },
  {
   "cell_type": "markdown",
   "id": "035230d5-4745-4da8-b75f-308fd0b76b23",
   "metadata": {},
   "source": [
    "2. SELECT * FROM film WHERE < 60 AND lengh > 75;"
   ]
  },
  {
   "cell_type": "markdown",
   "id": "b68ae724-0716-4bb5-8023-c742530a2e42",
   "metadata": {},
   "source": [
    "3. SELECT * FROM film WHERE rental_rate 0.99 = AND replacement_cost = 12.99 OR replecement_cost = 28.99"
   ]
  },
  {
   "cell_type": "markdown",
   "id": "0c57ea44-2ea0-4828-a6ee-c537b833fd95",
   "metadata": {},
   "source": [
    "4. SELECT * FROM customer WHERE first_name = 'Mary' --> Smith "
   ]
  },
  {
   "cell_type": "markdown",
   "id": "dc0e516f-49f8-4cdf-b68a-96db7243b0c3",
   "metadata": {},
   "source": [
    "5. SELECT * FROM film WHERE NOT lenght > 50 AND NOT (rental_rate = 2.99 OR rental_rate = 4.99)"
   ]
  },
  {
   "cell_type": "markdown",
   "id": "e41490d9-db70-4323-bb8a-889c1d782bdc",
   "metadata": {},
   "source": [
    "## ÖDEV 2\n",
    "\n",
    "1.Film tablosunda bulunan tüm sütunlardaki verileri replacement cost değeri 12.99 dan büyük eşit ve 16.99 küçük olma koşuluyla sıralayınız ( BETWEEN - AND yapısını kullanınız.)\n",
    "\n",
    "2.Actor tablosunda bulunan first_name ve last_name sütunlardaki verileri first_name 'Penelope' veya 'Nick' veya 'Ed' değerleri olması koşuluyla sıralayınız. ( IN operatörünü kullanınız.)\n",
    "\n",
    "3.Film tablosunda bulunan tüm sütunlardaki verileri rental_rate 0.99, 2.99, 4.99 VE replacement_cost 12.99, 15.99, 28.99 olma koşullarıyla sıralayınız. ( IN operatörünü kullanınız.)"
   ]
  },
  {
   "cell_type": "markdown",
   "id": "21dc5e72-0f2b-42ba-8a36-ed3766eb72c1",
   "metadata": {},
   "source": [
    "1. SELECT * FROM film replacemet_cost BETWEEN 12.99 AND 16.99;"
   ]
  },
  {
   "cell_type": "markdown",
   "id": "4df70310-ed27-470e-8d64-b9f7b28d0028",
   "metadata": {},
   "source": [
    "2. SELECT * FROM actor WHERE first_name AND last_name IN ('Penelope','Nick','Ed')"
   ]
  },
  {
   "cell_type": "markdown",
   "id": "392b6bc6-06eb-46a0-a83b-7c9fd12131e6",
   "metadata": {},
   "source": [
    "3. SELECT * FROM film WHERE rental_rate IN (0.99,2.99,4.99) AND replecament_cost IN(12.99,15.99,28.99)"
   ]
  },
  {
   "cell_type": "markdown",
   "id": "08d4123b-f907-440e-b46a-e8c6a6020a4d",
   "metadata": {},
   "source": [
    "## ÖDEV 3\n",
    "\n",
    "1.Country tablosunda bulunan country sütunundaki ülke isimlerinden 'A' karakteri ile başlayıp 'a' karakteri ile sonlananları sıralayınız.\n",
    "\n",
    "2.Country tablosunda bulunan country sütunundaki ülke isimlerinden en az 6 karakterden oluşan ve sonu 'n' karakteri ile sonlananları sıralayınız.\n",
    "\n",
    "3.Film tablosunda bulunan title sütunundaki film isimlerinden en az 4 adet büyük ya da küçük harf farketmesizin 'T' karakteri içeren film isimlerini sıralayınız.\n",
    "\n",
    "4.Film tablosunda bulunan tüm sütunlardaki verilerden title 'C' karakteri ile başlayan ve uzunluğu (length) 90 dan büyük olan ve rental_rate 2.99 olan verileri sıralayınız."
   ]
  },
  {
   "cell_type": "markdown",
   "id": "9a0a6620-870f-408c-962b-2e479195e423",
   "metadata": {},
   "source": [
    "1. SELECT * FROM country WHERE country LIKE 'A%a'"
   ]
  },
  {
   "cell_type": "markdown",
   "id": "636bfdc4-083e-4bee-a6fe-89b1fe491b69",
   "metadata": {},
   "source": [
    "2. SELECT * FROM country WHERE country LIKE '_____%n'"
   ]
  },
  {
   "cell_type": "markdown",
   "id": "2cdfd55a-ceb9-439d-83aa-bfed8f4abe64",
   "metadata": {},
   "source": [
    "3. SELECT * FROM film WHERE title ILIKE '%T%T%T%T%'"
   ]
  },
  {
   "cell_type": "markdown",
   "id": "6281c148-a572-4e87-a346-5c9d636bb446",
   "metadata": {},
   "source": [
    "4. SELECT * FROM film WHERE title LIKE 'C' AND lenght>90 AND rental_rate = 2.99;"
   ]
  },
  {
   "cell_type": "markdown",
   "id": "bdda793a-3a4f-4898-920d-0d7c3f6c6e35",
   "metadata": {},
   "source": [
    "## ÖDEV 4\n",
    "\n",
    "1.Film tablosunda bulunan replacement_cost sütununda bulunan birbirinden farklı değerleri sıralayınız.\n",
    "\n",
    "2.Film tablosunda bulunan replacement_cost sütununda birbirinden farklı kaç tane veri vardır?\n",
    "\n",
    "3.Film tablosunda bulunan film isimlerinde (title) kaç tanesini T karakteri ile başlar ve aynı zamanda rating 'G' ye eşittir?\n",
    "\n",
    "4.Country tablosunda bulunan ülke isimlerinden (country) kaç tanesi 5 karakterden oluşmaktadır?\n",
    "\n",
    "5.City tablosundaki şehir isimlerinin kaç tanesi 'R' veya r karakteri ile biter?"
   ]
  },
  {
   "cell_type": "markdown",
   "id": "4e070073-f997-4ca0-9731-eb0a8a7b34b1",
   "metadata": {},
   "source": [
    "1. SELECT DISTINCT replacement_cost FROM film;"
   ]
  },
  {
   "cell_type": "markdown",
   "id": "f2600b44-afc2-43d3-98de-5d38a9a83134",
   "metadata": {},
   "source": [
    "2. SELECT COUNT (DISTINCT replacement_cost) FROM film;"
   ]
  },
  {
   "cell_type": "markdown",
   "id": "07c3091a-1935-469c-a4d7-5860dd0412ac",
   "metadata": {},
   "source": [
    "3. SELECT COUNT(*) FROM film WHERE title LIKE '%T' AND RATING = 'G'"
   ]
  },
  {
   "cell_type": "markdown",
   "id": "c5a39600-c2bd-4f70-aae7-f68bb3b96f1b",
   "metadata": {},
   "source": [
    "4. SELECT COUNT(*) FROM country WHERE country LIKE '_____'"
   ]
  },
  {
   "cell_type": "markdown",
   "id": "e24cdf81-4ea2-4ed3-ae89-fcadfc40a6ca",
   "metadata": {},
   "source": [
    "5. SELECT COUNT(*) FROM city WHERE city LIKE '%R' OR city LIKE '%r'"
   ]
  }
 ],
 "metadata": {
  "kernelspec": {
   "display_name": "Python 3 (ipykernel)",
   "language": "python",
   "name": "python3"
  },
  "language_info": {
   "codemirror_mode": {
    "name": "ipython",
    "version": 3
   },
   "file_extension": ".py",
   "mimetype": "text/x-python",
   "name": "python",
   "nbconvert_exporter": "python",
   "pygments_lexer": "ipython3",
   "version": "3.10.0"
  }
 },
 "nbformat": 4,
 "nbformat_minor": 5
}
