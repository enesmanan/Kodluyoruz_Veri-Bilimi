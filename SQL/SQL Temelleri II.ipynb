{
 "cells": [
  {
   "cell_type": "markdown",
   "id": "fee8c1c1-0543-48ea-bf87-1f1c5dcc12f5",
   "metadata": {},
   "source": [
    "## ÖDEV 5\n",
    "\n",
    "1.film tablosunda bulunan ve film ismi (title) 'n' karakteri ile biten en uzun (length) 5 filmi sıralayınız.\n",
    "\n",
    "2.film tablosunda bulunan ve film ismi (title) 'n' karakteri ile biten en kısa (length) ikinci(6,7,8,9,10) 5 filmi(6,7,8,9,10) sıralayınız.\n",
    "\n",
    "3.customer tablosunda bulunan last_name sütununa göre azalan yapılan sıralamada store_id 1 olmak koşuluyla ilk 4 veriyi sıralayınız."
   ]
  },
  {
   "cell_type": "markdown",
   "id": "16dedbd9-03e8-4e17-9a27-a34a02275196",
   "metadata": {},
   "source": [
    "1. SELECT * FROM film WHERE title LIKE '%n' ORDER BY lenght DESC LIMIT 5;"
   ]
  },
  {
   "cell_type": "markdown",
   "id": "eefcdeb5-eee9-4c92-941b-cb19ae6ecfbf",
   "metadata": {},
   "source": [
    "2. SELECT * FROM film WHERE title LIKE '%n' ORDER BY lenght ACS OFFSET 5 LIMIT 5;"
   ]
  },
  {
   "cell_type": "markdown",
   "id": "fce17700-8adb-42cf-913d-9fea194e2f76",
   "metadata": {},
   "source": [
    "3. SELECT * FROM customer WHERE store_id = 1 ORDER BY last_name DESC LIMIT 4;"
   ]
  },
  {
   "cell_type": "markdown",
   "id": "db2a6de3-4b8f-4d43-afa1-30ecb5cccec7",
   "metadata": {},
   "source": [
    "## ÖDEV 6\n",
    "\n",
    "1.film tablosunda bulunan rental_rate sütunundaki değerlerin ortalaması nedir?\n",
    "\n",
    "2.film tablosunda bulunan filmlerden kaç tanesi 'C' karakteri ile başlar?\n",
    "\n",
    "3.film tablosunda bulunan filmlerden rental_rate değeri 0.99 a eşit olan en uzun (length) film kaç dakikadır?\n",
    "\n",
    "4.film tablosunda bulunan filmlerin uzunluğu 150 dakikadan büyük olanlarına ait kaç farklı replacement_cost değeri vardır?"
   ]
  },
  {
   "cell_type": "markdown",
   "id": "5e662e59-d248-40f3-93a2-05cdaa6cb44a",
   "metadata": {},
   "source": [
    "1. SELECT AVG(rental_rate) FROM film;"
   ]
  },
  {
   "cell_type": "markdown",
   "id": "b4773693-96be-4982-ac52-4e8c2f583f2f",
   "metadata": {},
   "source": [
    "2. SELECT COUNT(*) FROM film WHERE title LIKE 'C%'"
   ]
  },
  {
   "cell_type": "markdown",
   "id": "63e72ab9-b0d7-4a8b-b754-e0522a9caca9",
   "metadata": {},
   "source": [
    "3. SELECT MAX(lenght) FROM film WHERE rental_rate = 0.99;"
   ]
  },
  {
   "cell_type": "markdown",
   "id": "bc42d6fc-ce7e-4c50-85c5-3215b86bcc46",
   "metadata": {},
   "source": [
    "4. SELECT COUNT(DISTINCT replecament_cost) FROM film WHERE lenght > 150;"
   ]
  },
  {
   "cell_type": "markdown",
   "id": "cf6a5d3f-fcc1-40c6-a29f-0e101793ab13",
   "metadata": {},
   "source": [
    "## ÖDEV 7 \n",
    "\n",
    "1.film tablosunda bulunan filmleri rating değerlerine göre gruplayınız.\n",
    "\n",
    "2.film tablosunda bulunan filmleri replacement_cost sütununa göre grupladığımızda film sayısı 50 den fazla olan \n",
    "replacement_cost değerini ve karşılık gelen film sayısını sıralayınız.\n",
    "\n",
    "3.customer tablosunda bulunan store_id değerlerine karşılık gelen müşteri sayılarını nelerdir? \n",
    "\n",
    "4.city tablosunda bulunan şehir verilerini country_id sütununa göre gruplandırdıktan sonra en fazla şehir sayısı \n",
    "barındıran country_id bilgisini ve şehir sayısını paylaşınız."
   ]
  },
  {
   "cell_type": "markdown",
   "id": "bbd2cd6d-4d02-4e3b-85f6-5f21a82b34c8",
   "metadata": {},
   "source": [
    "1. SELECT rating, COUNT(*) FROM film GROUP BY rating;\n",
    "\n",
    "2. SELECT replacement_cost, COUNT(*) FROM film\n",
    "\n",
    "   GROUP BY replacement_cost \n",
    "   \n",
    "   HAVING COUNT(*) > 50;\n",
    "   \n",
    "3. SELECT store_id, COUNT(*) FROM customer\n",
    "\n",
    "   GROUP BY store_id;\n",
    "   \n",
    "4. SELECT country_id,COUNT(*) FROM city GROUP BY country_id \n",
    "\n",
    "   ORDER BY COUNT(*) DESC limit 1;\n",
    "\n"
   ]
  }
 ],
 "metadata": {
  "kernelspec": {
   "display_name": "Python 3 (ipykernel)",
   "language": "python",
   "name": "python3"
  },
  "language_info": {
   "codemirror_mode": {
    "name": "ipython",
    "version": 3
   },
   "file_extension": ".py",
   "mimetype": "text/x-python",
   "name": "python",
   "nbconvert_exporter": "python",
   "pygments_lexer": "ipython3",
   "version": "3.10.0"
  }
 },
 "nbformat": 4,
 "nbformat_minor": 5
}
