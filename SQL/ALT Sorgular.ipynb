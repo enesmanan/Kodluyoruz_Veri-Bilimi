{
 "cells": [
  {
   "cell_type": "markdown",
   "id": "f29d0594-4521-4818-b856-a6816e819713",
   "metadata": {},
   "source": [
    "## ÖDEV 12\n",
    "\n",
    "1.film tablosunda film uzunluğu length sütununda gösterilmektedir. Uzunluğu ortalama film uzunluğundan fazla kaç tane film vardır?\n",
    "\n",
    "2.film tablosunda en yüksek rental_rate değerine sahip kaç tane film vardır?\n",
    "\n",
    "3.film tablosunda en düşük rental_rate ve en düşün replacement_cost değerlerine sahip filmleri sıralayınız.\n",
    "\n",
    "4.payment tablosunda en fazla sayıda alışveriş yapan müşterileri(customer) sıralayınız."
   ]
  },
  {
   "cell_type": "code",
   "execution_count": null,
   "id": "05fa861f-458e-4a85-8a72-a51e2e7711ca",
   "metadata": {},
   "outputs": [],
   "source": [
    "SELECT film_id, title, length, (SELECT AVG(length) FROM film) AS average \n",
    "FROM film\n",
    "WHERE (SELECT AVG(length) FROM film) < length \n",
    "ORDER BY length;"
   ]
  },
  {
   "cell_type": "code",
   "execution_count": null,
   "id": "524147f5-e25a-45bb-93b4-4f94ce0f3c19",
   "metadata": {},
   "outputs": [],
   "source": [
    "SELECT film_id, title, rental_rate, (SELECT MAX(rental_rate) FROM film) AS max \n",
    "FROM film\n",
    "WHERE (SELECT MAX(rental_rate) FROM film) = rental_rate\n",
    "ORDER BY length;"
   ]
  },
  {
   "cell_type": "code",
   "execution_count": null,
   "id": "ef5ae9f8-21aa-4579-bd57-f5a94a55df6a",
   "metadata": {},
   "outputs": [],
   "source": [
    "SELECT film_id,title,rental_rate,replacement_cost FROM film\n",
    "WHERE rental_rate = (SELECT MIN(rental_rate) FROM film) \n",
    "AND replacement_cost = (SELECT MIN(replacement_cost) FROM film);"
   ]
  },
  {
   "cell_type": "code",
   "execution_count": null,
   "id": "379e738b-7361-452c-8a80-04b483288eca",
   "metadata": {},
   "outputs": [],
   "source": [
    "SELECT payment.customer_id,payment.amount,customer.customer_id,customer.first_name,customer.last_name\n",
    "FROM payment\n",
    "LEFT JOIN customer ON customer.customer_id = payment.customer_id\n",
    "WHERE payment.amount = (SELECT MAX(amount) FROM payment);"
   ]
  }
 ],
 "metadata": {
  "kernelspec": {
   "display_name": "Python 3 (ipykernel)",
   "language": "python",
   "name": "python3"
  },
  "language_info": {
   "codemirror_mode": {
    "name": "ipython",
    "version": 3
   },
   "file_extension": ".py",
   "mimetype": "text/x-python",
   "name": "python",
   "nbconvert_exporter": "python",
   "pygments_lexer": "ipython3",
   "version": "3.10.0"
  }
 },
 "nbformat": 4,
 "nbformat_minor": 5
}
