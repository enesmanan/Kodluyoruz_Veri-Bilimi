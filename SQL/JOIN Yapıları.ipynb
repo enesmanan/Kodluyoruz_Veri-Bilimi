{
 "cells": [
  {
   "cell_type": "markdown",
   "id": "b322eab1-354a-480c-9cf0-281666588f60",
   "metadata": {},
   "source": [
    "## ÖDEV 9\n",
    "\n",
    "1.city tablosu ile country tablosunda bulunan şehir (city) ve ülke (country) isimlerini birlikte görebileceğimiz INNER JOIN sorgusunu yazınız.\n",
    "\n",
    "2.customer tablosu ile payment tablosunda bulunan payment_id ile customer tablosundaki first_name ve last_name isimlerini birlikte görebileceğimiz INNER JOIN sorgusunu yazınız.\n",
    "\n",
    "3.customer tablosu ile rental tablosunda bulunan rental_id ile customer tablosundaki first_name ve last_name isimlerini birlikte görebileceğimiz INNER JOIN sorgusunu yazınız."
   ]
  },
  {
   "cell_type": "code",
   "execution_count": null,
   "id": "677e3b69-72da-4ec9-8624-fcd55fa1f696",
   "metadata": {},
   "outputs": [],
   "source": [
    "SELECT city,country\n",
    "FROM city\n",
    "INNER JOIN country ON city.country_id=country.country_id;"
   ]
  },
  {
   "cell_type": "code",
   "execution_count": null,
   "id": "d9a62bcd-650d-4aa8-95ac-56ebd97860ab",
   "metadata": {},
   "outputs": [],
   "source": [
    "SELECT payment_id,first_name,last_name FROM customer\n",
    "INNER JOIN payment ON\n",
    "customer.customer_id=payment.customer_id;"
   ]
  },
  {
   "cell_type": "code",
   "execution_count": null,
   "id": "f95bb15d-d3c2-4861-aec5-599480aca626",
   "metadata": {},
   "outputs": [],
   "source": [
    "SELECT rental_id, first_name, last_name\n",
    "FROM customer\n",
    "INNER JOIN rental ON customer.customer_id = rental.customer_id;"
   ]
  }
 ],
 "metadata": {
  "kernelspec": {
   "display_name": "Python 3 (ipykernel)",
   "language": "python",
   "name": "python3"
  },
  "language_info": {
   "codemirror_mode": {
    "name": "ipython",
    "version": 3
   },
   "file_extension": ".py",
   "mimetype": "text/x-python",
   "name": "python",
   "nbconvert_exporter": "python",
   "pygments_lexer": "ipython3",
   "version": "3.10.0"
  }
 },
 "nbformat": 4,
 "nbformat_minor": 5
}
