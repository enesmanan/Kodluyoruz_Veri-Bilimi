{
 "cells": [
  {
   "cell_type": "markdown",
   "id": "b322eab1-354a-480c-9cf0-281666588f60",
   "metadata": {},
   "source": [
    "## ÖDEV 9\n",
    "\n",
    "1.city tablosu ile country tablosunda bulunan şehir (city) ve ülke (country) isimlerini birlikte görebileceğimiz INNER JOIN sorgusunu yazınız.\n",
    "\n",
    "2.customer tablosu ile payment tablosunda bulunan payment_id ile customer tablosundaki first_name ve last_name isimlerini birlikte görebileceğimiz INNER JOIN sorgusunu yazınız.\n",
    "\n",
    "3.customer tablosu ile rental tablosunda bulunan rental_id ile customer tablosundaki first_name ve last_name isimlerini birlikte görebileceğimiz INNER JOIN sorgusunu yazınız."
   ]
  },
  {
   "cell_type": "code",
   "execution_count": null,
   "id": "677e3b69-72da-4ec9-8624-fcd55fa1f696",
   "metadata": {},
   "outputs": [],
   "source": [
    "SELECT city,country\n",
    "FROM city\n",
    "INNER JOIN country ON city.country_id=country.country_id;"
   ]
  },
  {
   "cell_type": "code",
   "execution_count": null,
   "id": "d9a62bcd-650d-4aa8-95ac-56ebd97860ab",
   "metadata": {},
   "outputs": [],
   "source": [
    "SELECT payment_id,first_name,last_name FROM customer\n",
    "INNER JOIN payment ON\n",
    "customer.customer_id=payment.customer_id;"
   ]
  },
  {
   "cell_type": "code",
   "execution_count": null,
   "id": "f95bb15d-d3c2-4861-aec5-599480aca626",
   "metadata": {},
   "outputs": [],
   "source": [
    "SELECT rental_id, first_name, last_name\n",
    "FROM customer\n",
    "INNER JOIN rental ON customer.customer_id = rental.customer_id;"
   ]
  },
  {
   "cell_type": "markdown",
   "id": "0ebab545-ef89-4c5d-a47b-1f3c552421fd",
   "metadata": {},
   "source": [
    "## ÖDEV 10 \n",
    "\n",
    "1.city tablosu ile country tablosunda bulunan şehir (city) ve ülke (country) isimlerini birlikte görebileceğimiz LEFT JOIN sorgusunu yazınız.\n",
    "\n",
    "2.customer tablosu ile payment tablosunda bulunan payment_id ile customer tablosundaki first_name ve last_name isimlerini birlikte görebileceğimiz RIGHT JOIN sorgusunu yazınız.\n",
    "\n",
    "3.customer tablosu ile rental tablosunda bulunan rental_id ile customer tablosundaki first_name ve last_name isimlerini birlikte görebileceğimiz FULL JOIN sorgusunu yazınız."
   ]
  },
  {
   "cell_type": "code",
   "execution_count": null,
   "id": "d2ecc6c1-9f96-4e68-900e-c84ddfb05c2d",
   "metadata": {},
   "outputs": [],
   "source": [
    "SELECT city,country\n",
    "FROM city\n",
    "LEFT JOIN country\n",
    "ON city.country_id=country.country_id;"
   ]
  },
  {
   "cell_type": "code",
   "execution_count": null,
   "id": "67e591cf-dc17-41fe-a459-7f47a1e49efb",
   "metadata": {},
   "outputs": [],
   "source": [
    "SELECT payment_id,first_name,last_name\n",
    "FROM customer\n",
    "RIGHT JOIN payment\n",
    "ON customer.customer_id=payment.customer_id;"
   ]
  },
  {
   "cell_type": "code",
   "execution_count": null,
   "id": "1b808410-961c-47f3-9461-d95aeb4f4d0a",
   "metadata": {},
   "outputs": [],
   "source": [
    "SELECT rental_id,first_name,last_name\n",
    "FROM customer\n",
    "FULL JOIN rental\n",
    "ON customer.customer_id=rental.customer_id;"
   ]
  },
  {
   "cell_type": "markdown",
   "id": "f870f7fc-e2cf-4259-ac38-55ce003f5be7",
   "metadata": {},
   "source": [
    "## ÖDEV 11\n",
    "\n",
    "1.actor ve customer tablolarında bulunan first_name sütunları için tüm verileri sıralayalım.\n",
    "\n",
    "2.actor ve customer tablolarında bulunan first_name sütunları için kesişen verileri sıralayalım.\n",
    "\n",
    "3.actor ve customer tablolarında bulunan first_name sütunları için ilk tabloda bulunan ancak ikinci tabloda bulunmayan verileri sıralayalım.\n",
    "\n",
    "4.İlk 3 sorguyu tekrar eden veriler için de yapalım.\n"
   ]
  },
  {
   "cell_type": "code",
   "execution_count": null,
   "id": "abb03faa-4fdb-484f-981b-7db3394b0405",
   "metadata": {},
   "outputs": [],
   "source": [
    "SELECT first_name FROM actor UNION\n",
    "SELECT first_name FROM customer;"
   ]
  },
  {
   "cell_type": "code",
   "execution_count": null,
   "id": "c6cf10e1-f7d4-4751-9893-86beae10b882",
   "metadata": {},
   "outputs": [],
   "source": [
    "SELECT first_name FROM actor INTERSECT\n",
    "SELECT first_name FROM customer;"
   ]
  },
  {
   "cell_type": "code",
   "execution_count": null,
   "id": "d17175ce-dccf-40e2-bf44-436cb11d1bc8",
   "metadata": {},
   "outputs": [],
   "source": [
    "SELECT first_name FROM actor EXCEPT\n",
    "SELECT first_name FROM customer;"
   ]
  },
  {
   "cell_type": "code",
   "execution_count": null,
   "id": "4ae668fe-1c7e-40c9-b9dc-6f34d782d7a1",
   "metadata": {},
   "outputs": [],
   "source": [
    "SELECT first_name FROM actor UNION ALL\n",
    "SELECT first_name FROM customer;\n",
    "\n",
    "SELECT first_name FROM actor INTERSECT ALL\n",
    "SELECT first_name FROM customer;\n",
    "\n",
    "SELECT first_name FROM actor EXCEPT ALL\n",
    "SELECT first_name FROM customer;"
   ]
  }
 ],
 "metadata": {
  "kernelspec": {
   "display_name": "Python 3 (ipykernel)",
   "language": "python",
   "name": "python3"
  },
  "language_info": {
   "codemirror_mode": {
    "name": "ipython",
    "version": 3
   },
   "file_extension": ".py",
   "mimetype": "text/x-python",
   "name": "python",
   "nbconvert_exporter": "python",
   "pygments_lexer": "ipython3",
   "version": "3.10.0"
  }
 },
 "nbformat": 4,
 "nbformat_minor": 5
}
