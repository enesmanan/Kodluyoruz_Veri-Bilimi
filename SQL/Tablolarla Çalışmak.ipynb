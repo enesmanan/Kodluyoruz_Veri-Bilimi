{
 "cells": [
  {
   "cell_type": "markdown",
   "id": "ff5afe2e-a7fd-4f93-9ba0-922da34e5dcb",
   "metadata": {},
   "source": [
    "## ÖDEV 8\n",
    "\n",
    "1.test veritabanınızda employee isimli sütun bilgileri id(INTEGER), name VARCHAR(50), birthday DATE, email VARCHAR(100) olan bir tablo oluşturalım.\n",
    "\n",
    "2.Oluşturduğumuz employee tablosuna 'Mockaroo' servisini kullanarak 50 adet veri ekleyelim.\n",
    "\n",
    "3.Sütunların her birine göre diğer sütunları güncelleyecek 5 adet UPDATE işlemi yapalım.\n",
    "\n",
    "4.Sütunların her birine göre ilgili satırı silecek 5 adet DELETE işlemi yapalım."
   ]
  },
  {
   "cell_type": "markdown",
   "id": "b4b88095-abff-4c14-9c24-6ede8628f952",
   "metadata": {},
   "source": [
    "1. Cevap\n",
    "\n",
    "CREATE TABLE (employee\n",
    "        \n",
    "        id SERIAL PRIMARY KEY,\n",
    "        name VARCHAR(50),\n",
    "        birthday DATE,\n",
    "        email VARCHAR(100),\n",
    "        \n",
    ");"
   ]
  },
  {
   "cell_type": "code",
   "execution_count": 2,
   "id": "8dc7e9f6-77ca-4695-8da2-c4e63a03e738",
   "metadata": {
    "collapsed": true,
    "jupyter": {
     "outputs_hidden": true
    },
    "tags": []
   },
   "outputs": [
    {
     "ename": "SyntaxError",
     "evalue": "invalid decimal literal (Temp/ipykernel_13084/883244227.py, line 28)",
     "output_type": "error",
     "traceback": [
      "\u001b[1;36m  File \u001b[1;32m\"C:\\Users\\ENES\\AppData\\Local\\Temp/ipykernel_13084/883244227.py\"\u001b[1;36m, line \u001b[1;32m28\u001b[0m\n\u001b[1;33m    26\tSalome Jesper\t1/17/2022\tsjesperp@51.la\u001b[0m\n\u001b[1;37m      \t             \t         \t           ^\u001b[0m\n\u001b[1;31mSyntaxError\u001b[0m\u001b[1;31m:\u001b[0m invalid decimal literal\n"
     ]
    }
   ],
   "source": [
    "2. Cevap\n",
    "\n",
    "1\tSibyl Honeywood\t1/5/2022\tshoneywood0@purevolume.com\n",
    "2\tLewie Poe\t6/19/2021\tlpoe1@washington.edu\n",
    "3\tMaegan Bartkowiak\t6/23/2021\tmbartkowiak2@edublogs.org\n",
    "4\tNatty Bransom\t6/17/2021\tnbransom3@oakley.com\n",
    "5\tKissie Matskevich\t11/13/2021\tkmatskevich4@epa.gov\n",
    "6\tBaxie Geraudel\t2/24/2022\tbgeraudel5@google.cn\n",
    "7\tBaudoin Dorant\t3/20/2022\tbdorant6@plala.or.jp\n",
    "8\tWilla Jakoub\t5/11/2021\twjakoub7@unc.edu\n",
    "9\tSacha Pepi\t8/4/2021\tspepi8@yahoo.co.jp\n",
    "10\tFlorida Rounsivall\t3/15/2022\tfrounsivall9@istockphoto.com\n",
    "11\tUlla Niesel\t3/29/2021\tuniesela@bloglovin.com\n",
    "12\tDionne Roxbee\t6/13/2021\tdroxbeeb@storify.com\n",
    "13\tMerilee Baggarley\t7/18/2021\tmbaggarleyc@smugmug.com\n",
    "14\tRollie Maywood\t7/3/2021\trmaywoodd@so-net.ne.jp\n",
    "15\tRasla Glisane\t8/16/2021\trglisanee@home.pl\n",
    "16\tCasey Gruszka\t6/23/2021\tcgruszkaf@mit.edu\n",
    "17\tVeradis Bevans\t11/11/2021\tvbevansg@indiatimes.com\n",
    "18\tKatrinka Dessent\t9/14/2021\tkdessenth@deliciousdays.com\n",
    "19\tJecho Huguet\t2/7/2022\tjhugueti@engadget.com\n",
    "20\tDarrin Starmer\t6/10/2021\tdstarmerj@issuu.com\n",
    "21\tClaudia Deal\t6/20/2021\tcdealk@ihg.com\n",
    "22\tTressa Bramelt\t4/17/2021\ttbrameltl@omniture.com\n",
    "23\tAngelika Goracci\t10/25/2021\tagoraccim@usnews.com\n",
    "24\tMoyra Barefoot\t7/6/2021\tmbarefootn@sitemeter.com\n",
    "25\tMary Grzelczyk\t8/27/2021\tmgrzelczyko@amazon.co.uk\n",
    "26\tSalome Jesper\t1/17/2022\tsjesperp@51.la\n",
    "27\tHalley Mallia\t1/21/2022\thmalliaq@sakura.ne.jp\n",
    "28\tJephthah Peron\t7/20/2021\tjperonr@linkedin.com\n",
    "29\tGaylene Kornalik\t12/15/2021\tgkornaliks@nba.com\n",
    "30\tImelda Hayhurst\t4/17/2021\tihayhurstt@home.pl\n",
    "31\tDoloritas Grainger\t3/27/2021\tdgraingeru@ihg.com\n",
    "32\tYolande Dewdeny\t12/15/2021\tydewdenyv@livejournal.com\n",
    "33\tBank Metcalf\t3/10/2022\tbmetcalfw@blogtalkradio.com\n",
    "34\tOlly Antcliff\t11/1/2021\toantcliffx@dedecms.com\n",
    "35\tMarline Baptie\t1/16/2022\tmbaptiey@blinklist.com\n",
    "36\tAntoni Crowter\t6/23/2021\tacrowterz@ehow.com\n",
    "37\tFayre O'Connel\t8/22/2021\tfoconnel10@va.gov\n",
    "38\tMaurie Barcke\t5/27/2021\tmbarcke11@goo.gl\n",
    "39\tJeddy Bedder\t5/19/2021\tjbedder12@wired.com\n",
    "40\tRoddy Elgy\t3/7/2022\trelgy13@salon.com\n",
    "41\tConant Godrich\t9/21/2021\tcgodrich14@nyu.edu\n",
    "42\tStaci Jacox\t11/2/2021\tsjacox15@cnet.com\n",
    "43\tCarol-jean Salliss\t5/31/2021\tcsalliss16@salon.com\n",
    "44\tCorabella MacAlpin\t1/15/2022\tcmacalpin17@de.vu\n",
    "45\tWaldo Rhodus\t2/13/2022\twrhodus18@theglobeandmail.com\n",
    "46\tDemetrius Gath\t2/3/2022\tdgath19@ted.com\n",
    "47\tLola MacKeever\t5/1/2021\tlmackeever1a@yolasite.com\n",
    "48\tPreston Bolter\t1/6/2022\tpbolter1b@friendfeed.com\n",
    "49\tBerget Topaz\t1/7/2022\tbtopaz1c@artisteer.com\n",
    "50\tTrista Desvignes\t6/5/2021\ttdesvignes1d@wikia.com"
   ]
  },
  {
   "cell_type": "markdown",
   "id": "0a979183-0a7f-4ce3-b4f7-2d114481d0af",
   "metadata": {},
   "source": [
    "3. Cevap \n",
    "\n",
    "\n",
    "    UPDATE employee\n",
    "        SET name='Enes Fehmi Manan',\n",
    "            birthday='2001-07-24',\n",
    "            email='enesfehmi@manan.com'\n",
    "    WHERE id=1"
   ]
  },
  {
   "cell_type": "markdown",
   "id": "76fb5e07-2f26-4988-8a62-7749834e01be",
   "metadata": {},
   "source": [
    "4. Cevap\n",
    "\n",
    "Delete from employee where name like 'Mn%'"
   ]
  }
 ],
 "metadata": {
  "kernelspec": {
   "display_name": "Python 3 (ipykernel)",
   "language": "python",
   "name": "python3"
  },
  "language_info": {
   "codemirror_mode": {
    "name": "ipython",
    "version": 3
   },
   "file_extension": ".py",
   "mimetype": "text/x-python",
   "name": "python",
   "nbconvert_exporter": "python",
   "pygments_lexer": "ipython3",
   "version": "3.10.0"
  }
 },
 "nbformat": 4,
 "nbformat_minor": 5
}
