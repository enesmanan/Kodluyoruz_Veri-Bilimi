{
 "cells": [
  {
   "cell_type": "markdown",
   "id": "3cad7a0f-35b1-40fb-98df-478fe57a8a4d",
   "metadata": {},
   "source": [
    "# PROJE 1\n",
    "\n",
    "[22,27,16,2,18,6] -> Insertion Sort\n",
    "\n",
    "1.Yukarı verilen dizinin sort türüne göre aşamalarını yazınız.\n",
    "\n",
    "2.Big-O gösterimini yazınız.\n",
    "\n",
    "3.Time Complexity: Average case: Aradığımız sayının ortada olması,Worst case: Aradığımız sayının sonda olması, Best case: Aradığımız sayının dizinin en başında olması.\n",
    "Dizi sıralandıktan sonra 18 sayısı hangi case kapsamına girer? Yazınız.\n",
    "\n",
    "\n",
    "4.[7,3,5,8,2,9,4,15,6] dizisinin Insertion Sort'a göre ilk 4 adımını yazınız."
   ]
  },
  {
   "cell_type": "markdown",
   "id": "1513953b-9d12-481a-b1f7-739f8c2dd0f4",
   "metadata": {},
   "source": [
    "# CEVAPLAR"
   ]
  },
  {
   "cell_type": "markdown",
   "id": "4e06623a-0f63-4a72-9579-a6a3ef9f1e95",
   "metadata": {},
   "source": [
    "1. [2,27,16,22,18,6] \n",
    "\n",
    "   [2,6,16,22,18,27] \n",
    "   \n",
    "   [2,6,16,22,18,27] \n",
    "   \n",
    "   [2,6,16,18,22,27] \n",
    "   "
   ]
  },
  {
   "cell_type": "markdown",
   "id": "85813296-e410-4e57-a42e-98a8cbcf6b7c",
   "metadata": {},
   "source": [
    "2. n + (n-1) + (n-2) + ... + 1 => n.(n+1)/2 => n^2+n/2 ==> O(n^2)"
   ]
  },
  {
   "cell_type": "markdown",
   "id": "6ec87115-c0a5-4b51-9822-83b519a892a6",
   "metadata": {},
   "source": [
    "3. [2,6,16,18,22,27] ==> 18 ortada olduğundan Average case olur."
   ]
  },
  {
   "cell_type": "markdown",
   "id": "36ec7122-ac38-49e1-bac1-1dc0c87cf6bf",
   "metadata": {},
   "source": [
    "4. [2,3,5,8,7,9,4,15,6]\n",
    "\n",
    "   [2,3,4,8,7,9,5,15,6]\n",
    "   \n",
    "   [2,3,4,5,7,9,8,15,6]\n",
    "   \n",
    "   [2,3,4,5,6,9,8,15,7]"
   ]
  },
  {
   "cell_type": "markdown",
   "id": "ac9ab0b9-3047-44c4-a385-54f3a74dafe4",
   "metadata": {},
   "source": [
    "# Proje 2\n",
    "[16,21,11,8,12,22] -> Merge Sort\n",
    "\n",
    "1.Yukarıdaki dizinin sort türüne göre aşamalarını yazınız.\n",
    "\n",
    "2.Big-O gösterimini yazınız."
   ]
  },
  {
   "cell_type": "markdown",
   "id": "d5e7b53c-a6b1-43d9-8cbc-afd1f6783d7f",
   "metadata": {},
   "source": [
    "# CEVAPLAR"
   ]
  },
  {
   "cell_type": "markdown",
   "id": "9d1781ac-b997-420e-8da6-fd76b68bc0b1",
   "metadata": {},
   "source": [
    "1.    [16,21,11]  | |  [8,12,22]\n",
    "\n",
    "    [16,21] - [11] || [8,12] - [22]\n",
    "\n",
    "    [11] - [16,21] || [8,12] - [22]\n",
    "\n",
    "    [11,16,21] || [8,12,22]\n",
    "\n",
    "    [8,11,12,16,21,22]"
   ]
  },
  {
   "cell_type": "markdown",
   "id": "68954e83-93fa-48ee-b579-ff6f5817ace0",
   "metadata": {},
   "source": [
    "2. O(nlogn)"
   ]
  },
  {
   "cell_type": "markdown",
   "id": "59d4e1b5-b9b7-49fe-a629-86c31882db00",
   "metadata": {},
   "source": [
    "# PROJE 3\n",
    "[7, 5, 1, 8, 3, 6, 0, 9, 4, 2] dizisinin Binary-Search-Tree aşamalarını yazınız.\n",
    "\n",
    "Örnek: root x'dir. root'un sağından y bulunur. Solunda z bulunur vb."
   ]
  },
  {
   "cell_type": "markdown",
   "id": "02c39e20-bf18-47f0-ab66-6c1b0cb2cd34",
   "metadata": {},
   "source": [
    "# CEVAP"
   ]
  },
  {
   "cell_type": "markdown",
   "id": "d0db382e-c5fa-4ea0-bc8c-8405acf1b2df",
   "metadata": {},
   "source": [
    "Root 8'dır.\n",
    "\n",
    "(7 < root) olduğu için root'un solunda bulunur.\n",
    "\n",
    "(5 < root ) olduğu için root'un solunda bulunur. \n",
    "\n",
    "(1 < root ) olduğu için root'un solunda bulunur.\n",
    "\n",
    "(3 < root ) olduğu için root'un solunda bulunur.\n",
    "\n",
    "(6 < root) olduğu için root'un solunda bulunur.\n",
    "\n",
    "(0 < root ) olduğu için root'un solunda bulunur.  \n",
    "\n",
    "(9 > root) olduğu için root'un sağında bulunur.\n",
    "\n",
    "(4 < root ) olduğu için root'un solunda bulunur.\n",
    "\n",
    "(2 < root ) olduğu için root'un solunda bulunur."
   ]
  }
 ],
 "metadata": {
  "kernelspec": {
   "display_name": "Python 3 (ipykernel)",
   "language": "python",
   "name": "python3"
  },
  "language_info": {
   "codemirror_mode": {
    "name": "ipython",
    "version": 3
   },
   "file_extension": ".py",
   "mimetype": "text/x-python",
   "name": "python",
   "nbconvert_exporter": "python",
   "pygments_lexer": "ipython3",
   "version": "3.10.0"
  }
 },
 "nbformat": 4,
 "nbformat_minor": 5
}
