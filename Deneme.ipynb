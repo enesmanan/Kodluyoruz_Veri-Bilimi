{
 "cells": [
  {
   "cell_type": "code",
   "execution_count": 14,
   "id": "28a7868f-5701-4d1f-8941-760cfba4c2ed",
   "metadata": {
    "tags": []
   },
   "outputs": [
    {
     "name": "stdin",
     "output_type": "stream",
     "text": [
      " 3\n",
      " Adana\n",
      " Mersin\n",
      " Yozgat\n"
     ]
    },
    {
     "name": "stdout",
     "output_type": "stream",
     "text": [
      "3\n"
     ]
    }
   ],
   "source": [
    "n = int(input())\n",
    "s = set()\n",
    "for i in range(n):\n",
    "    s.add(input())\n",
    "print(len(s))"
   ]
  },
  {
   "cell_type": "code",
   "execution_count": 1,
   "id": "9716bcbb-2db3-44e5-a147-a43099931f8d",
   "metadata": {},
   "outputs": [
    {
     "name": "stdout",
     "output_type": "stream",
     "text": [
      "['a', 'b', 'c']\n"
     ]
    }
   ],
   "source": [
    "liste = [\"a\", \"b\", \"c\"]\n",
    "print(liste)"
   ]
  },
  {
   "cell_type": "code",
   "execution_count": 21,
   "id": "4b5a028c-5c88-44b4-bcb2-1451cd18571c",
   "metadata": {},
   "outputs": [
    {
     "data": {
      "text/plain": [
       "<function list.copy()>"
      ]
     },
     "execution_count": 21,
     "metadata": {},
     "output_type": "execute_result"
    }
   ],
   "source": [
    "liste.copy"
   ]
  },
  {
   "cell_type": "code",
   "execution_count": 22,
   "id": "b13d4c07-3974-40a8-8a6d-e9ef8c7b6f31",
   "metadata": {},
   "outputs": [
    {
     "name": "stdout",
     "output_type": "stream",
     "text": [
      "2.DERECE DENKLEMİN(ax^2+bx+c) DElTASININ HESAPLANMASI\n"
     ]
    },
    {
     "name": "stdin",
     "output_type": "stream",
     "text": [
      "DENKLEMİN a DEĞERİNİ GİRİNİZ: 2\n",
      "DENKLEMİN b DEĞERİNİ GİRİNİZ: 3\n",
      "DENKLEMİN c DEĞERİNİ GİRİNİZ: 5\n"
     ]
    },
    {
     "name": "stdout",
     "output_type": "stream",
     "text": [
      "Denkelemin delta değeri:\n",
      "-31\n",
      "Denkelemin reel kökü yok.\n"
     ]
    }
   ],
   "source": [
    "print(\"2.DERECE DENKLEMİN(ax^2+bx+c) DElTASININ HESAPLANMASI\")\n",
    "a=int(input(\"DENKLEMİN a DEĞERİNİ GİRİNİZ:\"))\n",
    "b=int(input(\"DENKLEMİN b DEĞERİNİ GİRİNİZ:\"))\n",
    "c=int(input(\"DENKLEMİN c DEĞERİNİ GİRİNİZ:\"))\n",
    "delta=b*b-4*a*c\n",
    "print(\"Denkelemin delta değeri:\"),print(int(delta))\n",
    "if delta > 0 :print(\"Denklemin iki tane reel kökü var.\")\n",
    "if delta < 0 :print(\"Denkelemin reel kökü yok.\")\n",
    "else:print(\"Denklemin çift katlı kökü var.\") "
   ]
  },
  {
   "cell_type": "code",
   "execution_count": null,
   "id": "d8a3418d-4ee6-4f29-89b0-c5e433f3ceab",
   "metadata": {},
   "outputs": [
    {
     "name": "stdout",
     "output_type": "stream",
     "text": [
      "i:  0\n",
      "i:  1\n",
      "i:  2\n"
     ]
    }
   ],
   "source": [
    "i=0\n",
    "while(i<10):\n",
    "    if(i==3 or i==5):\n",
    "        continue\n",
    "    print(\"i: \",i)\n",
    "    i=i+1"
   ]
  },
  {
   "cell_type": "code",
   "execution_count": 1,
   "id": "9ff38879-fc1a-4b7b-84fc-3ecd72c148c3",
   "metadata": {},
   "outputs": [
    {
     "name": "stdout",
     "output_type": "stream",
     "text": [
      "[4, 8, 15, 16]\n"
     ]
    }
   ],
   "source": [
    "*x,y,z=(4,8,15,16,23,42)\n",
    "\n",
    "print(x)"
   ]
  },
  {
   "cell_type": "code",
   "execution_count": 12,
   "id": "8a8f13d7-109a-469f-8652-0370f1f8141d",
   "metadata": {},
   "outputs": [
    {
     "ename": "NameError",
     "evalue": "name 'res' is not defined",
     "output_type": "error",
     "traceback": [
      "\u001b[1;31m---------------------------------------------------------------------------\u001b[0m",
      "\u001b[1;31mNameError\u001b[0m                                 Traceback (most recent call last)",
      "\u001b[1;32m~\\AppData\\Local\\Temp/ipykernel_8236/1946093823.py\u001b[0m in \u001b[0;36m<module>\u001b[1;34m\u001b[0m\n\u001b[0;32m      5\u001b[0m     \u001b[0mres\u001b[0m \u001b[1;33m=\u001b[0m \u001b[1;36m5\u001b[0m\u001b[1;33m\u001b[0m\u001b[1;33m\u001b[0m\u001b[0m\n\u001b[0;32m      6\u001b[0m \u001b[1;33m\u001b[0m\u001b[0m\n\u001b[1;32m----> 7\u001b[1;33m \u001b[0mres\u001b[0m\u001b[1;33m*=\u001b[0m\u001b[0mres\u001b[0m\u001b[1;33m\u001b[0m\u001b[1;33m\u001b[0m\u001b[0m\n\u001b[0m\u001b[0;32m      8\u001b[0m \u001b[1;33m\u001b[0m\u001b[0m\n\u001b[0;32m      9\u001b[0m \u001b[1;32mif\u001b[0m \u001b[0mx\u001b[0m\u001b[1;33m%\u001b[0m\u001b[1;36m2\u001b[0m\u001b[1;33m==\u001b[0m\u001b[1;36m0\u001b[0m\u001b[1;33m:\u001b[0m\u001b[1;33m\u001b[0m\u001b[1;33m\u001b[0m\u001b[0m\n",
      "\u001b[1;31mNameError\u001b[0m: name 'res' is not defined"
     ]
    }
   ],
   "source": [
    "x=7\n",
    "\n",
    "def f(x):\n",
    "\n",
    "    res = 5\n",
    "\n",
    "res*=res\n",
    "\n",
    "if x%2==0:\n",
    "\n",
    "    print(\"Sonuc: \", res)\n",
    "    return res\n",
    "\n",
    "else:\n",
    "    print(\"Sonuc: \", res)\n",
    "    return res+10"
   ]
  },
  {
   "cell_type": "code",
   "execution_count": 5,
   "id": "1e92a4ca-7f34-465f-a2f7-118b4cb77581",
   "metadata": {},
   "outputs": [
    {
     "name": "stdout",
     "output_type": "stream",
     "text": [
      "['limon', 'portakal', 'armut']\n"
     ]
    }
   ],
   "source": [
    "l=[\"elma\",\"portakal\",\"armut\"]\n",
    "\n",
    "m=l\n",
    "\n",
    "def f(y):\n",
    "\n",
    "    y[0]=\"limon\"\n",
    "\n",
    "    return y\n",
    "\n",
    "f(l)\n",
    "\n",
    "print(m)"
   ]
  },
  {
   "cell_type": "code",
   "execution_count": 3,
   "id": "71f5d137-d6c2-498b-b56c-94b45690ebaf",
   "metadata": {},
   "outputs": [],
   "source": [
    "import numpy as np"
   ]
  },
  {
   "cell_type": "code",
   "execution_count": 4,
   "id": "b23bdd31-ca71-4042-b6d1-478de9d12cd8",
   "metadata": {},
   "outputs": [
    {
     "ename": "ValueError",
     "evalue": "invalid literal for int() with base 10: '4.2'",
     "output_type": "error",
     "traceback": [
      "\u001b[1;31m---------------------------------------------------------------------------\u001b[0m",
      "\u001b[1;31mValueError\u001b[0m                                Traceback (most recent call last)",
      "\u001b[1;32m~\\AppData\\Local\\Temp/ipykernel_10508/2054627001.py\u001b[0m in \u001b[0;36m<module>\u001b[1;34m\u001b[0m\n\u001b[1;32m----> 1\u001b[1;33m \u001b[0mx\u001b[0m\u001b[1;33m=\u001b[0m\u001b[0mnp\u001b[0m\u001b[1;33m.\u001b[0m\u001b[0marray\u001b[0m\u001b[1;33m(\u001b[0m\u001b[1;33m[\u001b[0m\u001b[1;34m\"4.2\"\u001b[0m\u001b[1;33m]\u001b[0m\u001b[1;33m,\u001b[0m\u001b[0mdtype\u001b[0m\u001b[1;33m=\u001b[0m\u001b[1;34m\"int32\"\u001b[0m\u001b[1;33m)\u001b[0m\u001b[1;33m\u001b[0m\u001b[1;33m\u001b[0m\u001b[0m\n\u001b[0m",
      "\u001b[1;31mValueError\u001b[0m: invalid literal for int() with base 10: '4.2'"
     ]
    }
   ],
   "source": [
    "x=np.array([\"4.2\"],dtype=\"int32\")"
   ]
  },
  {
   "cell_type": "code",
   "execution_count": null,
   "id": "d7c13d84-ee65-40fd-812c-44571c70dc92",
   "metadata": {},
   "outputs": [],
   "source": []
  }
 ],
 "metadata": {
  "kernelspec": {
   "display_name": "Python 3 (ipykernel)",
   "language": "python",
   "name": "python3"
  },
  "language_info": {
   "codemirror_mode": {
    "name": "ipython",
    "version": 3
   },
   "file_extension": ".py",
   "mimetype": "text/x-python",
   "name": "python",
   "nbconvert_exporter": "python",
   "pygments_lexer": "ipython3",
   "version": "3.10.0"
  }
 },
 "nbformat": 4,
 "nbformat_minor": 5
}
