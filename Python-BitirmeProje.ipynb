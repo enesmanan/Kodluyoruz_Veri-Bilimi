{
 "cells": [
  {
   "cell_type": "markdown",
   "id": "421666d3-93f8-4b42-8c4f-f84b4a2d63c9",
   "metadata": {},
   "source": [
    "# Proje 1\n",
    "Bir listeyi düzleştiren (flatten) fonksiyon yazın. Elemanları birden çok katmanlı listelerden ([[3],2] gibi) oluşabileceği gibi, non-scalar verilerden de oluşabilir. Örnek olarak:\n",
    "\n",
    "input: [[1,'a',['cat'],2],[[[3]],'dog'],4,5]\n",
    "\n",
    "output: [1,'a','cat',2,3,'dog',4,5]"
   ]
  },
  {
   "cell_type": "code",
   "execution_count": 38,
   "id": "98899631-8b61-4cda-a837-a116aea7bb21",
   "metadata": {},
   "outputs": [
    {
     "name": "stdout",
     "output_type": "stream",
     "text": [
      "[1, 'a', 'cat', 2, 3, 'dog', 4, 5]\n"
     ]
    }
   ],
   "source": [
    "bos_liste = []\n",
    "def flatten (liste):\n",
    "    for i in liste:\n",
    "        if type(i) == list:\n",
    "            flatten(i)\n",
    "        else:\n",
    "            bos_liste.append(i)\n",
    "            \n",
    "flatten([[1,'a',['cat'],2],[[[3]],'dog'],4,5])\n",
    "print(bos_liste)"
   ]
  },
  {
   "cell_type": "markdown",
   "id": "051bd903-ca28-4f89-a118-25ebcf643856",
   "metadata": {},
   "source": [
    "# Proje 2\n",
    "Verilen listenin içindeki elemanları tersine döndüren bir fonksiyon yazın. Eğer listenin içindeki elemanlar da liste içeriyorsa onların elemanlarını da tersine döndürün. Örnek olarak:\n",
    "\n",
    "input: [[1, 2], [3, 4], [5, 6, 7]]\n",
    "\n",
    "output: [[[7, 6, 5], [4, 3], [2, 1]]"
   ]
  },
  {
   "cell_type": "code",
   "execution_count": 50,
   "id": "1689c17d-2705-4f61-a615-de1ca68794c7",
   "metadata": {},
   "outputs": [
    {
     "name": "stdout",
     "output_type": "stream",
     "text": [
      "[[7, 6, 5], [4, 3], [2, 1]]\n"
     ]
    }
   ],
   "source": [
    "def reverse_list(liste):\n",
    "    reverse_list = []\n",
    "    boyut = len(liste)\n",
    "    for i in range(0,boyut):\n",
    "        reverse_list.append(liste[boyut-i-1][::-1])\n",
    "    return reverse_list\n",
    "\n",
    "liste = [[1, 2], [3, 4], [5, 6, 7]]\n",
    "print(reverse_list(liste))"
   ]
  }
 ],
 "metadata": {
  "kernelspec": {
   "display_name": "Python 3 (ipykernel)",
   "language": "python",
   "name": "python3"
  },
  "language_info": {
   "codemirror_mode": {
    "name": "ipython",
    "version": 3
   },
   "file_extension": ".py",
   "mimetype": "text/x-python",
   "name": "python",
   "nbconvert_exporter": "python",
   "pygments_lexer": "ipython3",
   "version": "3.10.0"
  }
 },
 "nbformat": 4,
 "nbformat_minor": 5
}
